{
 "cells": [
  {
   "cell_type": "markdown",
   "id": "ed95e324",
   "metadata": {},
   "source": [
    "# WELCOME DEAR USER"
   ]
  },
  {
   "cell_type": "markdown",
   "id": "2632fe7a",
   "metadata": {},
   "source": [
    "# WHAT IS PROGRAMMING\n",
    "Programming refers to the process of creating computer programs or software applications by writing instructions for a computer to follow. These instructions are typically written in a programming language, which serves as the intermediary between the human programmer and the machine.\n",
    "\n",
    "Programming allows humans to communicate with computers and instruct them on how to perform specific tasks, process data, and solve problems. A programmer designs and writes a set of instructions that outline the logical steps necessary to achieve a desired outcome. These instructions are then converted into machine-readable code, known as source code."
   ]
  },
  {
   "cell_type": "markdown",
   "id": "feb59bae",
   "metadata": {},
   "source": [
    "# WHAT IS PYTHON\n",
    "Python is a versatile and high-level programming language known for its simplicity and readability. It emphasizes code readability with its elegant syntax, making it suitable for beginners and professionals alike. Python supports various programming paradigms and has an extensive standard library, making it popular for web development, data analysis, artificial intelligence, and more."
   ]
  },
  {
   "cell_type": "markdown",
   "id": "7f5e0fcf",
   "metadata": {},
   "source": [
    "# FEATURE OF PYTHON\n",
    "Python features: Readable and simple syntax, high-level language, dynamic typing, interpreted, object-oriented, extensive standard library, cross-platform, dynamic memory management, rich ecosystem, scalable for diverse projects. Widely used in web development, data science, machine learning, automation, and scientific computing due to its versatility and community support.\n",
    "\n",
    "\n",
    "\n",
    "\n"
   ]
  },
  {
   "cell_type": "markdown",
   "id": "7a4de633",
   "metadata": {},
   "source": [
    "# PYTHON USED FOR\n",
    "Python is a multipurpose programming language widely used in web development, data science, machine learning, artificial intelligence, and scientific computing. It empowers developers with its readable syntax, rich libraries, and frameworks like Django and Flask for building websites, while Pandas and NumPy enable data analysis. TensorFlow and Scikit-learn support machine learning tasks, and Python's simplicity makes it suitable for automation, IoT, and game development. Its cross-platform capabilities, coupled with Tkinter and PyQt, create desktop applications. Python's popularity extends to education as a beginner-friendly language, nurturing new programmers worldwide."
   ]
  },
  {
   "cell_type": "markdown",
   "id": "2edf58f0",
   "metadata": {},
   "source": [
    "# INSTALL PYTHON \n",
    "To download and install Python on your computer, follow these steps:\n",
    "\n",
    "Visit the official Python website: Go to the Python website at https://www.python.org/.\n",
    "\n",
    "Choose the latest version: On the Python website's homepage, you'll find the latest stable version of Python. Click on the \"Downloads\" menu and select the version appropriate for your operating system (Windows, macOS, or Linux).\n",
    "\n",
    "Download the installer: After selecting your operating system, you'll be redirected to the download page. Click on the installer link to begin the download.\n",
    "\n",
    "Run the installer: Once the download is complete, locate the downloaded installer file and double-click on it to start the installation process.\n",
    "\n",
    "Check \"Add Python X.X to PATH\" (for Windows): If you are installing Python on Windows, ensure to check the option \"Add Python X.X to PATH\" during the installation. This will add Python to your system environment variables, allowing you to run Python from the command prompt easily.\n",
    "\n",
    "Complete the installation: Follow the on-screen instructions and complete the installation process. Python will be installed on your system.\n",
    "\n",
    "Verify the installation: To confirm that Python is installed successfully, open the terminal (command prompt on Windows) and type \"python\" or \"python3\" (depending on your system) and hit Enter. You should see the Python interactive shell with the version number displayed.\n",
    "\n",
    "Congratulations! You have successfully downloaded and installed Python on your computer. You can now start writing and executing Python programs.\n"
   ]
  },
  {
   "cell_type": "markdown",
   "id": "164364e7",
   "metadata": {},
   "source": [
    "# IDE INSTALL\n",
    "To install Jupyter Notebook, you need to have Python installed on your computer first. Once you have Python installed, follow these steps to install Jupyter Notebook:\n",
    "\n",
    "Open the Command Prompt (Windows) or Terminal (macOS/Linux).\n",
    "\n",
    "Type the following command and press Enter to install Jupyter using Python's package manager, pip:\n",
    "\n",
    "Copy code\n",
    "pip install jupyter\n",
    "Wait for the installation to complete. Pip will download and install Jupyter Notebook along with its dependencies.\n",
    "\n",
    "Once the installation is finished, you can start Jupyter Notebook by running the following command in the Command Prompt or Terminal:\n",
    "\n",
    "Copy code\n",
    "jupyter notebook\n",
    "Jupyter Notebook will start, and your default web browser will open, showing the Jupyter Notebook interface.\n",
    "\n",
    "In the Jupyter Notebook interface, you can create and open Python notebooks (.ipynb files) to write and execute Python code, as well as add Markdown cells for documentation and visualizations.\n",
    "\n",
    "To stop the Jupyter Notebook server, go back to the Command Prompt or Terminal and press Ctrl+C and then confirm by typing 'y' and hitting Enter.\n",
    "\n",
    "Remember that if you are using a virtual environment for your Python projects, make sure to activate the environment before running the installation command to ensure Jupyter Notebook is installed within that environment."
   ]
  },
  {
   "cell_type": "markdown",
   "id": "bf2ce150",
   "metadata": {},
   "source": [
    "#  print in Python\n",
    "you can use the built-in print() function. \n",
    "The print() function is used to display output on the console or terminal.\n",
    "You can pass one or more values or variables to the print() function, \n",
    "and it will display them as text.\n",
    "Here's a simple example of using the print() function to display text:\n",
    "\n",
    "You can use the print() function to display various types of data, including strings, numbers, and the results of expressions or calculations. It is a fundamental tool for debugging and inspecting the state of your programs during development."
   ]
  },
  {
   "cell_type": "code",
   "execution_count": 1,
   "id": "094ddcd3",
   "metadata": {},
   "outputs": [
    {
     "name": "stdout",
     "output_type": "stream",
     "text": [
      "Welcome india\n"
     ]
    }
   ],
   "source": [
    "print(\"Welcome india\")"
   ]
  },
  {
   "cell_type": "code",
   "execution_count": 2,
   "id": "40356b83",
   "metadata": {},
   "outputs": [
    {
     "name": "stdout",
     "output_type": "stream",
     "text": [
      "wlcome india\n"
     ]
    }
   ],
   "source": [
    "print('wlcome india')"
   ]
  },
  {
   "cell_type": "code",
   "execution_count": 3,
   "id": "a6e8a384",
   "metadata": {},
   "outputs": [
    {
     "name": "stdout",
     "output_type": "stream",
     "text": [
      "5\n"
     ]
    }
   ],
   "source": [
    "print(5)"
   ]
  },
  {
   "cell_type": "code",
   "execution_count": 4,
   "id": "79c8402b",
   "metadata": {},
   "outputs": [
    {
     "name": "stdout",
     "output_type": "stream",
     "text": [
      "!\n"
     ]
    }
   ],
   "source": [
    "print(\"!\")"
   ]
  },
  {
   "cell_type": "code",
   "execution_count": 5,
   "id": "f2918445",
   "metadata": {},
   "outputs": [
    {
     "name": "stdout",
     "output_type": "stream",
     "text": [
      "30\n"
     ]
    }
   ],
   "source": [
    "print(10*3)"
   ]
  },
  {
   "cell_type": "markdown",
   "id": "d3a432a3",
   "metadata": {},
   "source": [
    "# new line in whole syntax"
   ]
  },
  {
   "cell_type": "code",
   "execution_count": 6,
   "id": "ca305d17",
   "metadata": {},
   "outputs": [
    {
     "name": "stdout",
     "output_type": "stream",
     "text": [
      "i am sajid khan \n",
      "  and i am a programmer\n"
     ]
    }
   ],
   "source": [
    "print(\"i am sajid khan \\n  and i am a programmer\")"
   ]
  },
  {
   "cell_type": "markdown",
   "id": "f25b2a12",
   "metadata": {},
   "source": [
    "# In Python comments,\n",
    "you can add comments to your code using the \"#\" symbol. Comments are lines in your code that are meant for human readers and are ignored by the Python interpreter during execution. They serve as notes or explanations to make your code more understandable and maintainable.\n",
    "\n",
    "There are two types of comments in Python:\n",
    "\n",
    "Single-line comments:\n",
    "To add a single-line comment, simply use the \"#\" symbol at the beginning of the line. Everything after the \"#\" symbol on that line will be considered a comment."
   ]
  },
  {
   "cell_type": "code",
   "execution_count": 7,
   "id": "cf1dc64c",
   "metadata": {},
   "outputs": [],
   "source": [
    " #dear user are u happy\n",
    "    "
   ]
  },
  {
   "cell_type": "markdown",
   "id": "c2a439f6",
   "metadata": {},
   "source": [
    "Multi-line comments (Docstrings):\n",
    "To add multi-line comments, you can use triple quotes (''' or \"\"\") at the beginning and end of the block. Multi-line comments are also known as \"docstrings\" and are typically used to provide documentation for functions, classes, and modules.\n",
    "python\n"
   ]
  },
  {
   "cell_type": "code",
   "execution_count": 8,
   "id": "e7677e27",
   "metadata": {},
   "outputs": [
    {
     "data": {
      "text/plain": [
       "'\\ndear user are u happy\\n\\ndear user are u happy\\ndear user are u happy\\ndear user are u happy\\ndear user are u happy\\n\\n'"
      ]
     },
     "execution_count": 8,
     "metadata": {},
     "output_type": "execute_result"
    }
   ],
   "source": [
    "'''\n",
    "dear user are u happy\n",
    "\n",
    "dear user are u happy\n",
    "dear user are u happy\n",
    "dear user are u happy\n",
    "dear user are u happy\n",
    "\n",
    "'''"
   ]
  },
  {
   "cell_type": "markdown",
   "id": "50428de9",
   "metadata": {},
   "source": [
    "# VARIABLE"
   ]
  },
  {
   "cell_type": "markdown",
   "id": "da579b48",
   "metadata": {},
   "source": [
    "A variable in Python is a named storage location used to hold data, such as numbers, text, or objects. It allows us to refer to and manipulate data throughout the program. Variables can change their value during execution, providing flexibility in programming."
   ]
  },
  {
   "cell_type": "code",
   "execution_count": 9,
   "id": "d2085261",
   "metadata": {},
   "outputs": [
    {
     "name": "stdout",
     "output_type": "stream",
     "text": [
      "10\n"
     ]
    }
   ],
   "source": [
    "A=10\n",
    "print(A)"
   ]
  },
  {
   "cell_type": "code",
   "execution_count": 10,
   "id": "eaa45928",
   "metadata": {},
   "outputs": [
    {
     "name": "stdout",
     "output_type": "stream",
     "text": [
      "20\n"
     ]
    }
   ],
   "source": [
    "B=20\n",
    "print(B)"
   ]
  },
  {
   "cell_type": "code",
   "execution_count": 11,
   "id": "00cee000",
   "metadata": {},
   "outputs": [
    {
     "name": "stdout",
     "output_type": "stream",
     "text": [
      "30\n"
     ]
    }
   ],
   "source": [
    "c=30\n",
    "print(c)"
   ]
  },
  {
   "cell_type": "code",
   "execution_count": 12,
   "id": "3a71767b",
   "metadata": {},
   "outputs": [
    {
     "name": "stdout",
     "output_type": "stream",
     "text": [
      "khan\n"
     ]
    }
   ],
   "source": [
    "a=\"khan\"\n",
    "print(a)"
   ]
  },
  {
   "cell_type": "markdown",
   "id": "854ba2d1",
   "metadata": {},
   "source": [
    "# DATA TYPE"
   ]
  },
  {
   "cell_type": "markdown",
   "id": "f0fd3a64",
   "metadata": {},
   "source": [
    "Python supports various data types such as int for integers, float for floating-point numbers, str for strings, bool for Boolean values, and more. It is dynamically typed, allowing variables to change data types during execution, making it flexible and adaptable to different types of data and operations."
   ]
  },
  {
   "cell_type": "markdown",
   "id": "227234ec",
   "metadata": {},
   "source": [
    "Integers:"
   ]
  },
  {
   "cell_type": "code",
   "execution_count": 13,
   "id": "744cef43",
   "metadata": {},
   "outputs": [
    {
     "name": "stdout",
     "output_type": "stream",
     "text": [
      "the type of <class 'int'>\n"
     ]
    }
   ],
   "source": [
    "a=25\n",
    "print(\"the type of\",type(a))"
   ]
  },
  {
   "cell_type": "markdown",
   "id": "ad6c896d",
   "metadata": {},
   "source": [
    "Floating-Point Numbers"
   ]
  },
  {
   "cell_type": "code",
   "execution_count": 14,
   "id": "b29aa837",
   "metadata": {},
   "outputs": [
    {
     "name": "stdout",
     "output_type": "stream",
     "text": [
      "the type of <class 'float'>\n"
     ]
    }
   ],
   "source": [
    "a=0.12345\n",
    "print('the type of',type(a))"
   ]
  },
  {
   "cell_type": "markdown",
   "id": "e7687db7",
   "metadata": {},
   "source": [
    "Strings:"
   ]
  },
  {
   "cell_type": "code",
   "execution_count": 15,
   "id": "4fe03a2c",
   "metadata": {},
   "outputs": [
    {
     "name": "stdout",
     "output_type": "stream",
     "text": [
      "the type of <class 'str'>\n"
     ]
    }
   ],
   "source": [
    "a='sajid khan '\n",
    "print(\"the type of\",type(a))"
   ]
  },
  {
   "cell_type": "markdown",
   "id": "05ab18ff",
   "metadata": {},
   "source": [
    "Boolean:"
   ]
  },
  {
   "cell_type": "code",
   "execution_count": 16,
   "id": "1cd7b02c",
   "metadata": {},
   "outputs": [
    {
     "name": "stdout",
     "output_type": "stream",
     "text": [
      "the type of <class 'bool'>\n"
     ]
    }
   ],
   "source": [
    "a=True\n",
    "print(\"the type of\",type(a))"
   ]
  },
  {
   "cell_type": "code",
   "execution_count": 17,
   "id": "5376a66e",
   "metadata": {},
   "outputs": [
    {
     "name": "stdout",
     "output_type": "stream",
     "text": [
      "the type of <class 'bool'>\n"
     ]
    }
   ],
   "source": [
    "a=False\n",
    "print(\"the type of\",type(a))"
   ]
  },
  {
   "cell_type": "markdown",
   "id": "c445360a",
   "metadata": {},
   "source": [
    "# Sequence Type LIST\n",
    "In Python, a list is an ordered collection of items, enclosed within square brackets []. Lists are versatile and can hold elements of different data types. They allow indexing, slicing, and modification of elements. Lists are mutable, meaning you can add, remove, or modify elements after creating them. Here's an example of creating and using a list:"
   ]
  },
  {
   "cell_type": "code",
   "execution_count": 18,
   "id": "7b991b36",
   "metadata": {},
   "outputs": [
    {
     "name": "stdout",
     "output_type": "stream",
     "text": [
      "the type of <class 'list'>\n"
     ]
    }
   ],
   "source": [
    "a = [\"apple\", \"banana\", \"orange\"]\n",
    "print(\"the type of\",type(a))"
   ]
  },
  {
   "cell_type": "markdown",
   "id": "c405cb31",
   "metadata": {},
   "source": [
    "# Mapping Type DICTIONORY\n",
    "In Python, a dictionary (dict) is an unordered collection of key-value pairs, enclosed within curly braces {}. Each key in a dictionary must be unique, and it maps to a corresponding value. Dictionaries are highly efficient for data retrieval, and they allow fast access to values using keys. Here's an example of creating and using a dictionary:"
   ]
  },
  {
   "cell_type": "code",
   "execution_count": 19,
   "id": "76740099",
   "metadata": {},
   "outputs": [
    {
     "name": "stdout",
     "output_type": "stream",
     "text": [
      "the type of <class 'dict'>\n"
     ]
    }
   ],
   "source": [
    "person = {\"name\": \"John\", \"age\": 30, \"city\": \"New York\"}\n",
    "print(\"the type of\",type(person))"
   ]
  },
  {
   "cell_type": "markdown",
   "id": "30420fcf",
   "metadata": {},
   "source": [
    "# Set"
   ]
  },
  {
   "cell_type": "markdown",
   "id": "431c572c",
   "metadata": {},
   "source": [
    "In Python, a set is an unordered collection of unique elements, enclosed within curly braces {} or created using the set() constructor. Sets do not allow duplicate values, and they can contain elements of different data types. Sets are useful for mathematical operations like union, intersection, and difference. Here's an example of creating and using a set:"
   ]
  },
  {
   "cell_type": "code",
   "execution_count": 20,
   "id": "0820e077",
   "metadata": {},
   "outputs": [
    {
     "name": "stdout",
     "output_type": "stream",
     "text": [
      "the type of <class 'set'>\n"
     ]
    }
   ],
   "source": [
    "a = {1, 2, 3, 4}\n",
    "print(\"the type of\",type(a))"
   ]
  },
  {
   "cell_type": "markdown",
   "id": "f46f23a1",
   "metadata": {},
   "source": [
    "# NoneType"
   ]
  },
  {
   "cell_type": "markdown",
   "id": "32fbfe53",
   "metadata": {},
   "source": [
    "In Python, NoneType is a special data type that represents the absence of a value or a null value. It is used when a variable or function does not return anything or lacks a meaningful value.\n",
    "\n",
    "None is the sole instance of the NoneType and is often used as a placeholder or default value for variables or function returns when there is no meaningful value to assign."
   ]
  },
  {
   "cell_type": "code",
   "execution_count": 21,
   "id": "7726081e",
   "metadata": {},
   "outputs": [
    {
     "name": "stdout",
     "output_type": "stream",
     "text": [
      "the type of <class 'NoneType'>\n"
     ]
    }
   ],
   "source": [
    "a = None\n",
    "print(\"the type of\",type(a))"
   ]
  },
  {
   "cell_type": "markdown",
   "id": "f7e0c418",
   "metadata": {},
   "source": [
    "# Operators:\n",
    "an operator is a symbol or special character that performs specific operations on one or more operands. These operations can include arithmetic, comparison, assignment, logical, membership, and identity operations. Python provides various types of operators, which can be broadly categorized as follows:\n",
    "\n",
    "Arithmetic Operators:\n",
    "Arithmetic operators are used for performing basic mathematical operations.\n",
    "Addition: +\n",
    "Subtraction: -\n",
    "Multiplication: *\n",
    "Division: /\n",
    "Floor Division (integer division): //\n",
    "Modulo (remainder): %\n",
    "Exponentiation: **"
   ]
  },
  {
   "cell_type": "code",
   "execution_count": 22,
   "id": "f52564ef",
   "metadata": {},
   "outputs": [
    {
     "name": "stdout",
     "output_type": "stream",
     "text": [
      "11\n",
      "9\n",
      "90\n",
      "2.5\n",
      "2\n",
      "2\n",
      "16\n"
     ]
    }
   ],
   "source": [
    "print(5+6)\n",
    "print(15-6)\n",
    "print(15*6)\n",
    "print(15/6)\n",
    "print(15//6)\n",
    "print(5%3)\n",
    "print(2**4)"
   ]
  },
  {
   "cell_type": "markdown",
   "id": "d0f238c3",
   "metadata": {},
   "source": [
    "# Exercise 1 - Create a Calculator Solution\n",
    "Create a calculator capable of performing addition, subtraction, multiplication and division operations on two numbers. Your program should format the output in a readable manner!"
   ]
  },
  {
   "cell_type": "code",
   "execution_count": 23,
   "id": "bb4fa33f",
   "metadata": {},
   "outputs": [
    {
     "name": "stdout",
     "output_type": "stream",
     "text": [
      "The value of 50 + 3 is:  53\n",
      "The value of 50 - 3 is:  47\n",
      "The value of 50 * 3 is:  150\n",
      "The value of 50 / 3 is:  16.666666666666668\n"
     ]
    }
   ],
   "source": [
    "a = 50\n",
    "b = 3\n",
    "\n",
    "print(\"The value of\", a, \"+\", 3, \"is: \", a + b)\n",
    "print(\"The value of\", a, \"-\", 3, \"is: \", a - b)\n",
    "print(\"The value of\", a, \"*\", 3, \"is: \", a * b)\n",
    "print(\"The value of\", a, \"/\", 3, \"is: \", a / b)"
   ]
  },
  {
   "cell_type": "markdown",
   "id": "3d3773d1",
   "metadata": {},
   "source": [
    "# Typecasting \n",
    "The conversion of one data type into the other data type is known as type casting in python or type conversion in python.\n",
    "\n",
    "Python supports a wide variety of functions or methods like: int(), float(), str(), ord(), hex(), oct(), tuple(), set(), list(), dict(), etc. for the type casting in python.\n",
    "\n",
    "Two Types of Typecasting:\n",
    "Explicit Conversion (Explicit type casting in python)\n",
    "\n",
    "Implicit Conversion (Implicit type casting in python)\n",
    "\n",
    "Explicit typecasting:\n",
    "\n",
    "The conversion of one data type into another data type, done via developer or programmer's intervention or manually as per the requirement, is known as explicit type conversion.\n",
    "\n",
    "It can be achieved with the help of Python’s built-in type conversion functions such as int(), float(), hex(), oct(), str(), etc .\n",
    "Implicit type casting:\n",
    "Data types in Python do not have the same level i.e. ordering of data types is not the same in Python. Some of the data types have higher-order, and some have lower order. While performing any operations on variables with different data types in Python, one of the variable's data types will be changed to the higher data type. According to the level, one data type is converted into other by the Python interpreter itself (automatically). This is called, implicit typecasting in python.\n",
    "\n",
    "Python converts a smaller data type to a higher data type to prevent data loss"
   ]
  },
  {
   "cell_type": "code",
   "execution_count": 24,
   "id": "0587c6ea",
   "metadata": {},
   "outputs": [
    {
     "name": "stdout",
     "output_type": "stream",
     "text": [
      "The Sum of both the numbers is:  22\n"
     ]
    }
   ],
   "source": [
    "string = \"15\"\n",
    "number = 7\n",
    "string_number = int(string) #throws an error if the string is not a valid integer\n",
    "sum= number + string_number\n",
    "print(\"The Sum of both the numbers is: \", sum)"
   ]
  },
  {
   "cell_type": "code",
   "execution_count": 25,
   "id": "d6ada675",
   "metadata": {},
   "outputs": [
    {
     "name": "stdout",
     "output_type": "stream",
     "text": [
      "<class 'int'>\n",
      "<class 'float'>\n",
      "10.0\n",
      "<class 'float'>\n"
     ]
    }
   ],
   "source": [
    "# Python automatically converts\n",
    "# a to int\n",
    "a = 7\n",
    "print(type(a))\n",
    " \n",
    "# Python automatically converts b to float\n",
    "b = 3.0\n",
    "print(type(b))\n",
    " \n",
    "# Python automatically converts c to float as it is a float addition\n",
    "c = a + b\n",
    "print(c)\n",
    "print(type(c))"
   ]
  },
  {
   "cell_type": "markdown",
   "id": "0e0ab2e6",
   "metadata": {},
   "source": [
    "# Input in python\n",
    "In python, we can take user input directly by using input() function.This input function gives a return value as string/character hence we have to pass that into a variable"
   ]
  },
  {
   "cell_type": "code",
   "execution_count": 28,
   "id": "1029a8b3",
   "metadata": {},
   "outputs": [
    {
     "name": "stdout",
     "output_type": "stream",
     "text": [
      "Enter your name:   KHAN SAHIL\n",
      "My name is KHAN SAHIL\n"
     ]
    }
   ],
   "source": [
    "a = input(\"Enter your name:   \")\n",
    "print(\"My name is\", a)"
   ]
  },
  {
   "cell_type": "code",
   "execution_count": 27,
   "id": "3a2058c3",
   "metadata": {},
   "outputs": [
    {
     "name": "stdout",
     "output_type": "stream",
     "text": [
      "Enter first number: 10\n",
      "Enter second number: 10\n",
      "1010\n",
      "20\n"
     ]
    }
   ],
   "source": [
    "x = input(\"Enter first number: \")\n",
    "y = input(\"Enter second number: \")\n",
    "print(x  + y)\n",
    "\n",
    "print(int(x) + int(y))"
   ]
  },
  {
   "cell_type": "code",
   "execution_count": 34,
   "id": "dd20499e",
   "metadata": {},
   "outputs": [
    {
     "name": "stdout",
     "output_type": "stream",
     "text": [
      "Enter first number: 10\n",
      "Enter second number: 12\n",
      "22\n"
     ]
    }
   ],
   "source": [
    "x = int (input(\"Enter first number: \"))\n",
    "y =  int (input(\"Enter second number: \"))\n",
    "print(x  + y)"
   ]
  },
  {
   "cell_type": "code",
   "execution_count": 37,
   "id": "aa09e1f2",
   "metadata": {},
   "outputs": [
    {
     "name": "stdout",
     "output_type": "stream",
     "text": [
      "enter first nom : 10\n",
      "enter secound nom : 10\n",
      "20.0\n"
     ]
    }
   ],
   "source": [
    "a = float (input(\"enter first nom : \"))\n",
    "b = float (input(\"enter secound nom : \"))\n",
    "print(a+b)"
   ]
  },
  {
   "cell_type": "code",
   "execution_count": null,
   "id": "5914ca60",
   "metadata": {},
   "outputs": [],
   "source": []
  }
 ],
 "metadata": {
  "kernelspec": {
   "display_name": "Python 3 (ipykernel)",
   "language": "python",
   "name": "python3"
  },
  "language_info": {
   "codemirror_mode": {
    "name": "ipython",
    "version": 3
   },
   "file_extension": ".py",
   "mimetype": "text/x-python",
   "name": "python",
   "nbconvert_exporter": "python",
   "pygments_lexer": "ipython3",
   "version": "3.10.9"
  }
 },
 "nbformat": 4,
 "nbformat_minor": 5
}
