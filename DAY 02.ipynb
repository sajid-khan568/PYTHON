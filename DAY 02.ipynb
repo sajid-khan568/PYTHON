{
 "cells": [
  {
   "cell_type": "markdown",
   "id": "68af7d26",
   "metadata": {},
   "source": [
    "# STRINGS"
   ]
  },
  {
   "cell_type": "markdown",
   "id": "be8f53ff",
   "metadata": {},
   "source": [
    "In python, anything that you enclose between single or double quotation marks is considered a string. A string is essentially a sequence or array of textual data. Strings are used when working with Unicode characters."
   ]
  },
  {
   "cell_type": "code",
   "execution_count": 1,
   "id": "2ea092a7",
   "metadata": {},
   "outputs": [
    {
     "name": "stdout",
     "output_type": "stream",
     "text": [
      "Hello, Mr. khan \n"
     ]
    }
   ],
   "source": [
    "name = \"Mr. khan \"\n",
    "print(\"Hello, \" + name)"
   ]
  },
  {
   "cell_type": "code",
   "execution_count": 2,
   "id": "94281fc2",
   "metadata": {},
   "outputs": [
    {
     "name": "stdout",
     "output_type": "stream",
     "text": [
      "Hello, Mr. khan \n",
      "M\n",
      "r\n",
      ".\n",
      " \n",
      "k\n",
      "Lets use a for loop\n",
      " ego \n"
     ]
    }
   ],
   "source": [
    " \n",
    "print(\"Hello, \" + name)\n",
    "# print(apple) \n",
    "print(name[0])\n",
    "print(name[1])\n",
    "print(name[2])\n",
    "print(name[3])\n",
    "print(name[4])\n",
    "# print(name[5]) # Throws an error\n",
    "print(\"Lets use a for loop\\n ego \")\n"
   ]
  },
  {
   "cell_type": "markdown",
   "id": "e26448d1",
   "metadata": {},
   "source": [
    "# String Slicing & Operations on String\n",
    "# Length of a String\n",
    "We can find the length of a string using len() function."
   ]
  },
  {
   "cell_type": "code",
   "execution_count": 3,
   "id": "bc4a8513",
   "metadata": {},
   "outputs": [
    {
     "name": "stdout",
     "output_type": "stream",
     "text": [
      "5\n",
      "apple\n",
      "pple\n",
      "ple\n",
      "le\n",
      "e\n",
      "\n"
     ]
    }
   ],
   "source": [
    "f1= \"apple\"\n",
    "l1=len(f1)\n",
    "print(l1)\n",
    "print(f1[0:5])\n",
    "print(f1[1:5])\n",
    "print(f1[2:5])\n",
    "print(f1[3:5])\n",
    "print(f1[4:5])\n",
    "print(f1[5:5])"
   ]
  },
  {
   "cell_type": "code",
   "execution_count": 4,
   "id": "2648c6f4",
   "metadata": {},
   "outputs": [
    {
     "name": "stdout",
     "output_type": "stream",
     "text": [
      "apple\n",
      "appl\n",
      "app\n",
      "ap\n",
      "a\n",
      "\n"
     ]
    }
   ],
   "source": [
    "print(f1[-6:])\n",
    "print(f1[-6:-1])\n",
    "print(f1[-6:-2])\n",
    "print(f1[-6:-3])\n",
    "print(f1[-6:-4])\n",
    "print(f1[-6:-5])"
   ]
  },
  {
   "cell_type": "code",
   "execution_count": 5,
   "id": "32c43bc1",
   "metadata": {},
   "outputs": [
    {
     "name": "stdout",
     "output_type": "stream",
     "text": [
      "a\n",
      "p\n",
      "p\n",
      "l\n",
      "e\n"
     ]
    }
   ],
   "source": [
    "for i in f1:\n",
    "   print(i)"
   ]
  },
  {
   "cell_type": "markdown",
   "id": "d597a329",
   "metadata": {},
   "source": [
    "# String methods\n",
    "Python provides a set of built-in methods that we can use to alter and modify the strings.\n",
    "\n",
    "# upper() :\n",
    "The upper() method converts a string to upper case."
   ]
  },
  {
   "cell_type": "code",
   "execution_count": 6,
   "id": "b86abd22",
   "metadata": {},
   "outputs": [
    {
     "name": "stdout",
     "output_type": "stream",
     "text": [
      "SAJID KHAN\n"
     ]
    }
   ],
   "source": [
    "n1= \"sajid khan\"\n",
    "print(n1.upper())"
   ]
  },
  {
   "cell_type": "markdown",
   "id": "ae127a86",
   "metadata": {},
   "source": [
    "# lower()\n",
    "The lower() method converts a string to lower case."
   ]
  },
  {
   "cell_type": "code",
   "execution_count": 7,
   "id": "d9031769",
   "metadata": {},
   "outputs": [
    {
     "name": "stdout",
     "output_type": "stream",
     "text": [
      "sajid khan\n"
     ]
    }
   ],
   "source": [
    "n1= \"sajid khan\"\n",
    "print(n1.lower())"
   ]
  },
  {
   "cell_type": "markdown",
   "id": "619722a5",
   "metadata": {},
   "source": [
    "# strip() :"
   ]
  },
  {
   "cell_type": "code",
   "execution_count": 8,
   "id": "a5ba1a39",
   "metadata": {},
   "outputs": [
    {
     "name": "stdout",
     "output_type": "stream",
     "text": [
      "<built-in method strip of str object at 0x0000027A71F6C4F0>\n"
     ]
    }
   ],
   "source": [
    "n1= \"sajid khan\"\n",
    "print(n1.strip)"
   ]
  },
  {
   "cell_type": "markdown",
   "id": "b5d42279",
   "metadata": {},
   "source": [
    "# If Else Conditional Statements"
   ]
  },
  {
   "cell_type": "code",
   "execution_count": 9,
   "id": "13a9dea3",
   "metadata": {},
   "outputs": [
    {
     "name": "stdout",
     "output_type": "stream",
     "text": [
      "enter your age21\n",
      "your age is:  21\n",
      "you are eligible for vote\n"
     ]
    }
   ],
   "source": [
    "s1=int (input(\"enter your age\"))\n",
    "print(\"your age is: \",s1)\n",
    "if(s1<18):\n",
    "    print(\"you are not eligible for vote\")\n",
    "else:\n",
    "   print(\"you are eligible for vote\")"
   ]
  },
  {
   "cell_type": "markdown",
   "id": "1e575dbc",
   "metadata": {},
   "source": [
    "# If Else elif Conditional Statements¶"
   ]
  },
  {
   "cell_type": "code",
   "execution_count": 10,
   "id": "e991b1ed",
   "metadata": {},
   "outputs": [
    {
     "name": "stdout",
     "output_type": "stream",
     "text": [
      "enter your age2\n",
      "your age is:  2\n",
      "you are not eligible for vote\n"
     ]
    }
   ],
   "source": [
    "s1=int (input(\"enter your age\"))\n",
    "print(\"your age is: \", s1)\n",
    "if(s1<18):\n",
    "    print(\"you are not eligible for vote\")\n",
    "elif(s1==18):\n",
    "    print(\"you eligible but you have a votor id card\")\n",
    "else:\n",
    "   print(\"you are eligible for vote\")"
   ]
  },
  {
   "cell_type": "code",
   "execution_count": 11,
   "id": "8d1d62c7",
   "metadata": {},
   "outputs": [
    {
     "name": "stdout",
     "output_type": "stream",
     "text": [
      "Enter the value of num: 55\n",
      "Number is positive.\n",
      "I am happy now\n"
     ]
    }
   ],
   "source": [
    "num = int(input(\"Enter the value of num: \"))\n",
    "if (num < 0):\n",
    "  print(\"Number is negative.\")\n",
    "elif (num == 0):\n",
    "  print(\"Number is Zero.\")\n",
    "elif (num == 999):\n",
    "  print(\"Number is Special.\")\n",
    "else:\n",
    "  print(\"Number is positive.\")\n",
    "\n",
    "print(\"I am happy now\")\n"
   ]
  },
  {
   "cell_type": "code",
   "execution_count": 12,
   "id": "f48cbf9a",
   "metadata": {},
   "outputs": [
    {
     "name": "stdout",
     "output_type": "stream",
     "text": [
      "Enter Your age.. : 65\n",
      "boys nd girls  eligible for marr..\n",
      "this is 4 u \n"
     ]
    }
   ],
   "source": [
    "num = int(input(\"Enter Your age.. : \"))\n",
    "if (num < 18):\n",
    "  print(\"no one eligible for marr...\")\n",
    "elif (num >= 21):\n",
    "  print(\"boys nd girls  eligible for marr..\")\n",
    "else:\n",
    "  print(\"Girls eligible for marr\")\n",
    "print(\"this is 4 u \")\n"
   ]
  },
  {
   "cell_type": "code",
   "execution_count": 13,
   "id": "de66a08f",
   "metadata": {},
   "outputs": [
    {
     "name": "stdout",
     "output_type": "stream",
     "text": [
      "Enter Your age.. : 5\n",
      "Number is between 1-10\n"
     ]
    }
   ],
   "source": [
    "num = int(input(\"Enter Your age.. : \"))\n",
    "if (num < 0):\n",
    "    print(\"Number is negative.\")\n",
    "elif (num > 0):\n",
    "    if (num <= 10):\n",
    "        print(\"Number is between 1-10\")\n",
    "    elif (num > 10 and num <= 20):\n",
    "        print(\"Number is between 11-20\")\n",
    "    else:\n",
    "        print(\"Number is greater than 20\")\n",
    "else:\n",
    "    print(\"Number is zero\")"
   ]
  },
  {
   "cell_type": "code",
   "execution_count": 14,
   "id": "b8675eb0",
   "metadata": {},
   "outputs": [
    {
     "name": "stdout",
     "output_type": "stream",
     "text": [
      "15:52:31\n",
      "Good Afternoon sir\n"
     ]
    }
   ],
   "source": [
    "import time\n",
    "intime = time.strftime('%H:%M:%S')\n",
    "print(intime)\n",
    "\n",
    "intime = time.strftime('%H')\n",
    "\n",
    "a = int(time.strftime(\"%H\"))\n",
    "if(4<=a<12):\n",
    "    print(\"Good morning sir\")\n",
    "\n",
    "elif(a>=12 and a<16):\n",
    "    print(\"Good Afternoon sir\")\n",
    "\n",
    "elif(a>=16 and a<21):\n",
    "    print(\"Good evening sir\")\n",
    "\n",
    "elif(a>=21 and a<4):\n",
    "    print(\"Good night sir\")\n",
    "\n",
    "else:\n",
    "    print(\"you are not in timezone\")\n"
   ]
  },
  {
   "cell_type": "markdown",
   "id": "7066b8ce",
   "metadata": {},
   "source": [
    "# loops"
   ]
  },
  {
   "cell_type": "markdown",
   "id": "46b01568",
   "metadata": {},
   "source": [
    "Sometimes a programmer wants to execute a group of statements a certain number of times. This can be done using loops. Based on this loops are further classified into following main types;\n",
    "\n",
    "for loop\n",
    "while loop"
   ]
  },
  {
   "cell_type": "markdown",
   "id": "8585f860",
   "metadata": {},
   "source": [
    "# for Loop"
   ]
  },
  {
   "cell_type": "code",
   "execution_count": 15,
   "id": "ead71e64",
   "metadata": {},
   "outputs": [
    {
     "name": "stdout",
     "output_type": "stream",
     "text": [
      "s\n",
      "a\n",
      "j\n",
      "i\n",
      "d\n",
      " \n",
      "k\n",
      "h\n",
      "a\n",
      "n\n"
     ]
    }
   ],
   "source": [
    "name = 'sajid khan'\n",
    "for i in name:\n",
    "    print(i)"
   ]
  },
  {
   "cell_type": "code",
   "execution_count": 16,
   "id": "6581742e",
   "metadata": {},
   "outputs": [
    {
     "name": "stdout",
     "output_type": "stream",
     "text": [
      "Red\n",
      "Green\n",
      "Blue\n",
      "Yellow\n"
     ]
    }
   ],
   "source": [
    "colors = [\"Red\", \"Green\", \"Blue\", \"Yellow\"]\n",
    "for x in colors:\n",
    "    print(x)"
   ]
  },
  {
   "cell_type": "code",
   "execution_count": 17,
   "id": "e9137513",
   "metadata": {},
   "outputs": [
    {
     "name": "stdout",
     "output_type": "stream",
     "text": [
      "0\n",
      "1\n",
      "2\n",
      "3\n",
      "4\n",
      "5\n",
      "6\n",
      "7\n",
      "8\n",
      "9\n",
      "10\n",
      "11\n",
      "12\n",
      "13\n",
      "14\n",
      "15\n",
      "16\n",
      "17\n",
      "18\n",
      "19\n",
      "20\n",
      "21\n",
      "22\n",
      "23\n",
      "24\n"
     ]
    }
   ],
   "source": [
    "# range():\n",
    "# What if we do not want to iterate over a sequence? What if we want to use for loop for a specific number of times?\n",
    "\n",
    "# # Here, we can use the range() function.\n",
    "\n",
    "for k in range(25):\n",
    "    print(k)"
   ]
  },
  {
   "cell_type": "code",
   "execution_count": 18,
   "id": "a0bfd3f9",
   "metadata": {},
   "outputs": [
    {
     "name": "stdout",
     "output_type": "stream",
     "text": [
      "0\n",
      "25\n",
      "50\n",
      "75\n"
     ]
    }
   ],
   "source": [
    "for k in range(0,100,25):\n",
    "    print(k)"
   ]
  },
  {
   "cell_type": "code",
   "execution_count": 19,
   "id": "2fc8e32d",
   "metadata": {},
   "outputs": [
    {
     "name": "stdout",
     "output_type": "stream",
     "text": [
      "19\n",
      "38\n",
      "57\n",
      "76\n",
      "95\n",
      "114\n",
      "133\n",
      "152\n",
      "171\n",
      "190\n"
     ]
    }
   ],
   "source": [
    "for k in range(19,191,19):\n",
    "    print(k)"
   ]
  },
  {
   "cell_type": "markdown",
   "id": "1879c1a6",
   "metadata": {},
   "source": [
    "# while Loop\n",
    "As the name suggests, while loops execute statements while the condition is True. As soon as the condition becomes False, the interpreter comes out of the while loop.\n",
    "\n",
    "Example:"
   ]
  },
  {
   "cell_type": "code",
   "execution_count": 20,
   "id": "09986c3e",
   "metadata": {},
   "outputs": [
    {
     "name": "stdout",
     "output_type": "stream",
     "text": [
      "Enter the number: 2\n",
      "2\n",
      "Enter the number: 6655\n",
      "6655\n",
      "END\n"
     ]
    }
   ],
   "source": [
    "i = int(input(\"Enter the number: \"))\n",
    "print(i)\n",
    "while(i<=38):\n",
    "  i = int(input(\"Enter the number: \"))\n",
    "  print(i)\n",
    "print( \"END\")\n"
   ]
  },
  {
   "cell_type": "code",
   "execution_count": 21,
   "id": "bd1e7749",
   "metadata": {},
   "outputs": [
    {
     "name": "stdout",
     "output_type": "stream",
     "text": [
      "5\n",
      "4\n",
      "3\n",
      "2\n",
      "1\n",
      "I am inside else\n"
     ]
    }
   ],
   "source": [
    "count = 5\n",
    "while (count > 0):\n",
    "  print(count)\n",
    "  count = count - 1\n",
    "else:\n",
    "  print(\"I am inside else\")"
   ]
  },
  {
   "cell_type": "markdown",
   "id": "d96d2018",
   "metadata": {},
   "source": [
    "# break statement\n",
    "The break statement enables a program to skip over a part of the code. A break statement terminates the very loop it lies withi"
   ]
  },
  {
   "cell_type": "code",
   "execution_count": 22,
   "id": "dc08d72d",
   "metadata": {},
   "outputs": [
    {
     "name": "stdout",
     "output_type": "stream",
     "text": [
      "50\n",
      "100\n",
      "150\n",
      "200\n",
      "250\n",
      "300\n",
      "350\n",
      "400\n",
      "450\n",
      "500\n"
     ]
    }
   ],
   "source": [
    "for i in range(20):\n",
    "    if(i==10):\n",
    "        break\n",
    "    print((i+1)*50)\n",
    "    "
   ]
  },
  {
   "cell_type": "code",
   "execution_count": 23,
   "id": "1f8b44a0",
   "metadata": {},
   "outputs": [
    {
     "name": "stdout",
     "output_type": "stream",
     "text": [
      "enter any nomber 563\n",
      "563\n",
      "1126\n",
      "1689\n",
      "2252\n",
      "2815\n",
      "3378\n",
      "3941\n",
      "4504\n",
      "5067\n",
      "5630\n",
      "6193\n",
      "6756\n",
      "7319\n",
      "7882\n",
      "8445\n",
      "9008\n",
      "9571\n",
      "10134\n",
      "10697\n",
      "11260\n",
      "11823\n",
      "12386\n",
      "12949\n",
      "13512\n",
      "14075\n",
      "14638\n",
      "15201\n",
      "15764\n",
      "16327\n",
      "16890\n",
      "17453\n",
      "18016\n",
      "18579\n",
      "19142\n",
      "19705\n",
      "20268\n",
      "20831\n",
      "21394\n",
      "21957\n",
      "22520\n",
      "23083\n",
      "23646\n",
      "24209\n",
      "24772\n",
      "25335\n",
      "25898\n",
      "26461\n",
      "27024\n",
      "27587\n",
      "28150\n",
      "28713\n",
      "29276\n",
      "29839\n",
      "30402\n",
      "30965\n",
      "31528\n",
      "32091\n",
      "32654\n",
      "33217\n",
      "33780\n",
      "34343\n",
      "34906\n",
      "35469\n",
      "36032\n",
      "36595\n",
      "37158\n",
      "37721\n",
      "38284\n",
      "38847\n",
      "39410\n",
      "39973\n",
      "40536\n",
      "41099\n",
      "41662\n",
      "42225\n",
      "42788\n",
      "43351\n",
      "43914\n",
      "44477\n",
      "45040\n",
      "45603\n",
      "46166\n",
      "46729\n",
      "47292\n",
      "47855\n",
      "48418\n",
      "48981\n",
      "49544\n",
      "50107\n",
      "50670\n",
      "51233\n",
      "51796\n",
      "52359\n",
      "52922\n",
      "53485\n",
      "54048\n",
      "54611\n",
      "55174\n",
      "55737\n",
      "56300\n",
      "56863\n",
      "57426\n",
      "57989\n",
      "58552\n",
      "59115\n",
      "59678\n",
      "60241\n",
      "60804\n",
      "61367\n",
      "61930\n",
      "62493\n"
     ]
    }
   ],
   "source": [
    "k=int(input(\"enter any nomber \"))\n",
    "for i in range(k):\n",
    "    if(i>110):\n",
    "        break\n",
    "    print((i+1)* k)"
   ]
  },
  {
   "cell_type": "markdown",
   "id": "59314bfc",
   "metadata": {},
   "source": [
    "# Continue Statement\n",
    "The continue statement skips the rest of the loop statements and causes the next iteration to occur."
   ]
  },
  {
   "cell_type": "code",
   "execution_count": 24,
   "id": "6037d4ea",
   "metadata": {},
   "outputs": [
    {
     "name": "stdout",
     "output_type": "stream",
     "text": [
      "2\n",
      "4\n",
      "6\n",
      "8\n",
      "0\n"
     ]
    }
   ],
   "source": [
    "for i in [2,3,4,6,8,0]:\n",
    "    if (i%2!=0):\n",
    "        continue\n",
    "    print(i)"
   ]
  },
  {
   "cell_type": "markdown",
   "id": "f6ac3a6d",
   "metadata": {},
   "source": [
    "# Python Functions\n",
    "A function is a block of code that performs a specific task whenever it is called. In bigger programs, where we have large amounts of code, it is advisable to create or use existing functions that make the program flow organized and neat.\n",
    "\n",
    "There are two types of functions:\n",
    "\n",
    "Built-in functions\n",
    "User-defined functions\n",
    "Built-in functions:\n",
    "These functions are defined and pre-coded in python. Some examples of built-in functions are as follows:\n",
    "\n",
    "min(), max(), len(), sum(), type(), range(), dict(), list(), tuple(), set(), print(), etc.\n",
    "\n",
    "# User-defined functions:\n",
    "We can create functions to perform specific tasks as per our needs. Such functions are called user-defined functions."
   ]
  },
  {
   "cell_type": "code",
   "execution_count": 25,
   "id": "6749a581",
   "metadata": {},
   "outputs": [],
   "source": [
    "def calculateGmean(a, b):\n",
    "  mean = (a*b)/(a+b)\n",
    "  print(mean)\n",
    "\n",
    "def isGreater(a, b):\n",
    "  if(a>b):\n",
    "    print(\"First number is greater\")\n",
    "  else:\n",
    "    print(\"Second number is greater or equal\")\n",
    "\n",
    "def isLesser(a, b):\n",
    "  pass"
   ]
  },
  {
   "cell_type": "code",
   "execution_count": 26,
   "id": "6171a43e",
   "metadata": {},
   "outputs": [
    {
     "name": "stdout",
     "output_type": "stream",
     "text": [
      "First number is greater\n",
      "4.235294117647059\n"
     ]
    }
   ],
   "source": [
    "a = 9\n",
    "b = 8\n",
    "isGreater(a, b)\n",
    "calculateGmean(a, b)"
   ]
  },
  {
   "cell_type": "code",
   "execution_count": null,
   "id": "3c40eac2",
   "metadata": {},
   "outputs": [],
   "source": []
  }
 ],
 "metadata": {
  "kernelspec": {
   "display_name": "Python 3 (ipykernel)",
   "language": "python",
   "name": "python3"
  },
  "language_info": {
   "codemirror_mode": {
    "name": "ipython",
    "version": 3
   },
   "file_extension": ".py",
   "mimetype": "text/x-python",
   "name": "python",
   "nbconvert_exporter": "python",
   "pygments_lexer": "ipython3",
   "version": "3.10.9"
  }
 },
 "nbformat": 4,
 "nbformat_minor": 5
}
