{
 "cells": [
  {
   "cell_type": "markdown",
   "id": "758ce908",
   "metadata": {},
   "source": [
    "# Python Sets\n",
    "Sets are unordered collection of data items. They store multiple items in a single variable. Set items are separated by commas and enclosed within curly brackets {}. Sets are unchangeable, meaning you cannot change items of the set once created. Sets do not contain duplicate items.\n",
    "\n"
   ]
  },
  {
   "cell_type": "code",
   "execution_count": 1,
   "id": "8d00c971",
   "metadata": {},
   "outputs": [
    {
     "name": "stdout",
     "output_type": "stream",
     "text": [
      "{False, 19, 5.9, 'Carla'}\n"
     ]
    }
   ],
   "source": [
    "info = {\"Carla\", 19, False, 5.9, 19}\n",
    "print(info)"
   ]
  },
  {
   "cell_type": "code",
   "execution_count": 2,
   "id": "c7684bed",
   "metadata": {},
   "outputs": [
    {
     "name": "stdout",
     "output_type": "stream",
     "text": [
      "{1, 2, 3, 4, 5, 6, 893, 63}\n"
     ]
    }
   ],
   "source": [
    "s={1,2,3,3,4,5,6,5,3,3,893,63,}\n",
    "print(s)"
   ]
  },
  {
   "cell_type": "code",
   "execution_count": 3,
   "id": "3e7a66e6",
   "metadata": {},
   "outputs": [
    {
     "name": "stdout",
     "output_type": "stream",
     "text": [
      "8 {1, 2, 3, 4, 5, 6, 893, 63}\n"
     ]
    }
   ],
   "source": [
    "print(len(s),s)"
   ]
  },
  {
   "cell_type": "code",
   "execution_count": 4,
   "id": "49242b50",
   "metadata": {},
   "outputs": [
    {
     "name": "stdout",
     "output_type": "stream",
     "text": [
      "False\n",
      "19\n",
      "5.9\n",
      "Carla\n"
     ]
    }
   ],
   "source": [
    "sk = {\"Carla\", 19, False, 5.9}\n",
    "for i in sk:\n",
    "    print(i)"
   ]
  },
  {
   "cell_type": "markdown",
   "id": "37095bb4",
   "metadata": {},
   "source": [
    "# Joining Sets\n",
    "Sets in python more or less work in the same way as sets in mathematics. We can perform operations like union and intersection on the sets just like in mathematics.\n",
    "\n",
    "# . union() and update():\n",
    "The union() and update() methods prints all items that are present in the two sets. The union() method returns a new set whereas update() method adds item into the existing set from another set."
   ]
  },
  {
   "cell_type": "code",
   "execution_count": 5,
   "id": "9a0b3320",
   "metadata": {},
   "outputs": [
    {
     "name": "stdout",
     "output_type": "stream",
     "text": [
      "{'Madrid', 'Delhi', 'Seoul', 'Berlin', 'Tokyo', 'Kabul'}\n"
     ]
    }
   ],
   "source": [
    "cities = {\"Tokyo\", \"Madrid\", \"Berlin\", \"Delhi\"}\n",
    "cities2 = {\"Tokyo\", \"Seoul\", \"Kabul\", \"Madrid\"}\n",
    "cities3 = cities.union(cities2)\n",
    "print(cities3)"
   ]
  },
  {
   "cell_type": "code",
   "execution_count": 6,
   "id": "8437bb47",
   "metadata": {},
   "outputs": [
    {
     "name": "stdout",
     "output_type": "stream",
     "text": [
      "{'Madrid', 'Delhi', 'Seoul', 'Berlin', 'Tokyo', 'Kabul'}\n"
     ]
    }
   ],
   "source": [
    "cities = {\"Tokyo\", \"Madrid\", \"Berlin\", \"Delhi\"}\n",
    "cities2 = {\"Tokyo\", \"Seoul\", \"Kabul\", \"Madrid\"}\n",
    "cities.update(cities2)\n",
    "print(cities)"
   ]
  },
  {
   "cell_type": "markdown",
   "id": "cbc39a30",
   "metadata": {},
   "source": [
    "# intersection and intersection_update():\n",
    "The intersection() and intersection_update() methods prints only items that are similar to both the sets. The intersection() method returns a new set whereas intersection_update() method updates into the existing set from another set."
   ]
  },
  {
   "cell_type": "code",
   "execution_count": 7,
   "id": "c3178771",
   "metadata": {},
   "outputs": [
    {
     "name": "stdout",
     "output_type": "stream",
     "text": [
      "{'Madrid', 'Tokyo'}\n"
     ]
    }
   ],
   "source": [
    "cities = {\"Tokyo\", \"Madrid\", \"Berlin\", \"Delhi\"}\n",
    "cities2 = {\"Tokyo\", \"Seoul\", \"Kabul\", \"Madrid\"}\n",
    "cities3 = cities.intersection(cities2)\n",
    "print(cities3)\n",
    "\n"
   ]
  },
  {
   "cell_type": "code",
   "execution_count": 8,
   "id": "d3ebfc87",
   "metadata": {},
   "outputs": [
    {
     "name": "stdout",
     "output_type": "stream",
     "text": [
      "{'Madrid', 'Tokyo'}\n"
     ]
    }
   ],
   "source": [
    "cities = {\"Tokyo\", \"Madrid\", \"Berlin\", \"Delhi\"}\n",
    "cities2 = {\"Tokyo\", \"Seoul\", \"Kabul\", \"Madrid\"}\n",
    "cities.intersection_update(cities2)\n",
    "print(cities)"
   ]
  },
  {
   "cell_type": "markdown",
   "id": "3a710cd5",
   "metadata": {},
   "source": [
    "# symmetric_difference and symmetric_difference_update():\n",
    "The symmetric_difference() and symmetric_difference_update() methods prints only items that are not similar to both the sets. The symmetric_difference() method returns a new set whereas symmetric_difference_update() method updates into the existing set from another set."
   ]
  },
  {
   "cell_type": "code",
   "execution_count": 9,
   "id": "93a99b36",
   "metadata": {},
   "outputs": [
    {
     "name": "stdout",
     "output_type": "stream",
     "text": [
      "{'Delhi', 'Seoul', 'Berlin', 'Kabul'}\n"
     ]
    }
   ],
   "source": [
    "cities = {\"Tokyo\", \"Madrid\", \"Berlin\", \"Delhi\"}\n",
    "cities2 = {\"Tokyo\", \"Seoul\", \"Kabul\", \"Madrid\"}\n",
    "cities3 = cities.symmetric_difference(cities2)\n",
    "print(cities3)"
   ]
  },
  {
   "cell_type": "code",
   "execution_count": 10,
   "id": "5d1eedf3",
   "metadata": {},
   "outputs": [
    {
     "name": "stdout",
     "output_type": "stream",
     "text": [
      "{'Delhi', 'Seoul', 'Berlin', 'Kabul'}\n"
     ]
    }
   ],
   "source": [
    "cities = {\"Tokyo\", \"Madrid\", \"Berlin\", \"Delhi\"}\n",
    "cities2 = {\"Tokyo\", \"Seoul\", \"Kabul\", \"Madrid\"}\n",
    "cities.symmetric_difference_update(cities2)\n",
    "print(cities)"
   ]
  },
  {
   "cell_type": "markdown",
   "id": "136697e1",
   "metadata": {},
   "source": [
    "# difference() and difference_update():\n",
    "The difference() and difference_update() methods prints only items that are only present in the original set and not in both the sets. The difference() method returns a new set whereas difference_update() method updates into the existing set from another set."
   ]
  },
  {
   "cell_type": "code",
   "execution_count": 11,
   "id": "015dd1d4",
   "metadata": {},
   "outputs": [
    {
     "name": "stdout",
     "output_type": "stream",
     "text": [
      "{'Madrid', 'Tokyo', 'Berlin'}\n"
     ]
    }
   ],
   "source": [
    "cities = {\"Tokyo\", \"Madrid\", \"Berlin\", \"Delhi\"}\n",
    "cities2 = {\"Seoul\", \"Kabul\", \"Delhi\"}\n",
    "cities3 = cities.difference(cities2)\n",
    "print(cities3)"
   ]
  },
  {
   "cell_type": "code",
   "execution_count": 12,
   "id": "937bbb12",
   "metadata": {},
   "outputs": [
    {
     "name": "stdout",
     "output_type": "stream",
     "text": [
      "{'Madrid', 'Tokyo', 'Berlin'}\n"
     ]
    }
   ],
   "source": [
    "cities = {\"Tokyo\", \"Madrid\", \"Berlin\", \"Delhi\"}\n",
    "cities2 = {\"Seoul\", \"Kabul\", \"Delhi\"}\n",
    "print(cities.difference(cities2))"
   ]
  },
  {
   "cell_type": "markdown",
   "id": "31d2fa13",
   "metadata": {},
   "source": [
    "# Dictionary"
   ]
  },
  {
   "cell_type": "code",
   "execution_count": 13,
   "id": "dc847271",
   "metadata": {},
   "outputs": [
    {
     "name": "stdout",
     "output_type": "stream",
     "text": [
      "{'name': 'Karan', 'age': 19, 'eligible': True}\n",
      "dict_keys(['name', 'age', 'eligible'])\n",
      "dict_values(['Karan', 19, True])\n"
     ]
    }
   ],
   "source": [
    "info = {'name':'Karan', 'age':19, 'eligible':True}\n",
    "print(info) \n",
    "print(info.keys())\n",
    "print(info.values())"
   ]
  },
  {
   "cell_type": "code",
   "execution_count": 14,
   "id": "648294bb",
   "metadata": {},
   "outputs": [
    {
     "name": "stdout",
     "output_type": "stream",
     "text": [
      "The value corresponding to the key name is Karan\n",
      "The value corresponding to the key age is 19\n",
      "The value corresponding to the key eligible is True\n"
     ]
    }
   ],
   "source": [
    "\n",
    "for key in info.keys():\n",
    "  print(f\"The value corresponding to the key {key} is {info[key]}\")"
   ]
  },
  {
   "cell_type": "code",
   "execution_count": null,
   "id": "6de9981b",
   "metadata": {},
   "outputs": [],
   "source": [
    "print(info.items())\n",
    "for key, value in info.items():\n",
    "  print(f\"The value corresponding to the key {key} is {value}\")"
   ]
  },
  {
   "cell_type": "code",
   "execution_count": null,
   "id": "6d74f992",
   "metadata": {},
   "outputs": [],
   "source": [
    "s1={1:\"sajid khan\" , 2: \"ashish truba\"}"
   ]
  },
  {
   "cell_type": "code",
   "execution_count": null,
   "id": "11eff37d",
   "metadata": {},
   "outputs": [],
   "source": [
    "# s2={3:\"ai ds\", 4: \"CSE\"}\n"
   ]
  },
  {
   "cell_type": "code",
   "execution_count": null,
   "id": "632ad265",
   "metadata": {},
   "outputs": [],
   "source": [
    "# print(s1,s2)\n"
   ]
  },
  {
   "cell_type": "code",
   "execution_count": null,
   "id": "9935fda4",
   "metadata": {},
   "outputs": [],
   "source": [
    "# s1.update(s2)"
   ]
  },
  {
   "cell_type": "code",
   "execution_count": null,
   "id": "6908b16a",
   "metadata": {},
   "outputs": [],
   "source": [
    "# print(s1)"
   ]
  },
  {
   "cell_type": "code",
   "execution_count": null,
   "id": "571dc5f9",
   "metadata": {},
   "outputs": [],
   "source": [
    "# s1.clear()"
   ]
  },
  {
   "cell_type": "code",
   "execution_count": null,
   "id": "809790d5",
   "metadata": {},
   "outputs": [],
   "source": [
    "s1"
   ]
  },
  {
   "cell_type": "code",
   "execution_count": null,
   "id": "6e2d6955",
   "metadata": {},
   "outputs": [],
   "source": [
    "s2={3 : 2000, 4: 5000}\n"
   ]
  },
  {
   "cell_type": "code",
   "execution_count": null,
   "id": "e1aca75a",
   "metadata": {},
   "outputs": [],
   "source": [
    "s2.pop(3)"
   ]
  },
  {
   "cell_type": "code",
   "execution_count": null,
   "id": "f118de28",
   "metadata": {},
   "outputs": [],
   "source": [
    "s2.popitem()"
   ]
  },
  {
   "cell_type": "markdown",
   "id": "5aae4706",
   "metadata": {},
   "source": [
    "# loop"
   ]
  },
  {
   "cell_type": "markdown",
   "id": "6927f928",
   "metadata": {},
   "source": [
    "# with else "
   ]
  },
  {
   "cell_type": "code",
   "execution_count": 15,
   "id": "09697c1e",
   "metadata": {},
   "outputs": [
    {
     "name": "stdout",
     "output_type": "stream",
     "text": [
      "0\n",
      "10\n",
      "20\n",
      "30\n",
      "40\n",
      "50\n",
      "60\n",
      "70\n",
      "80\n",
      "90\n",
      "100\n"
     ]
    }
   ],
   "source": [
    "for i in range(11):\n",
    "    print(i*10)"
   ]
  },
  {
   "cell_type": "code",
   "execution_count": 16,
   "id": "bbd045f2",
   "metadata": {},
   "outputs": [
    {
     "name": "stdout",
     "output_type": "stream",
     "text": [
      "0\n",
      "10\n",
      "20\n",
      "30\n",
      "40\n",
      "50\n",
      "60\n",
      "70\n",
      "80\n",
      "90\n",
      "it is 10 table from 0 to 100\n"
     ]
    }
   ],
   "source": [
    "for i in range(10):\n",
    "    print(i*10)\n",
    "else:\n",
    "    print(\"it is 10 table from 0 to 100\")"
   ]
  },
  {
   "cell_type": "code",
   "execution_count": 17,
   "id": "32fdf0c6",
   "metadata": {},
   "outputs": [
    {
     "name": "stdout",
     "output_type": "stream",
     "text": [
      "0\n",
      "10\n",
      "20\n"
     ]
    }
   ],
   "source": [
    "for i in range(10):\n",
    "    print(i*10)\n",
    "    if i == 2:\n",
    "        break\n",
    "else:\n",
    "    print(\"it is 10 table from 0 to 100\")"
   ]
  },
  {
   "cell_type": "code",
   "execution_count": 37,
   "id": "f122c280",
   "metadata": {},
   "outputs": [],
   "source": [
    "i=0\n",
    "while i>7:\n",
    "    print(i)"
   ]
  },
  {
   "cell_type": "code",
   "execution_count": null,
   "id": "093337c8",
   "metadata": {},
   "outputs": [],
   "source": []
  }
 ],
 "metadata": {
  "kernelspec": {
   "display_name": "Python 3 (ipykernel)",
   "language": "python",
   "name": "python3"
  },
  "language_info": {
   "codemirror_mode": {
    "name": "ipython",
    "version": 3
   },
   "file_extension": ".py",
   "mimetype": "text/x-python",
   "name": "python",
   "nbconvert_exporter": "python",
   "pygments_lexer": "ipython3",
   "version": "3.10.9"
  }
 },
 "nbformat": 4,
 "nbformat_minor": 5
}
