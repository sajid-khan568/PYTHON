{
 "cells": [
  {
   "cell_type": "markdown",
   "id": "c2d00110",
   "metadata": {},
   "source": [
    "# Function Arguments and return statement\n",
    "There are four types of arguments that we can provide in a function:\n",
    "\n",
    "Default Arguments\n",
    "Keyword Arguments\n",
    "Variable length Arguments\n",
    "Required Arguments\n",
    "Default arguments:\n",
    "We can provide a default value while creating a function. This way the function assumes a default value even if a value is not provided in the function call for that argument."
   ]
  },
  {
   "cell_type": "code",
   "execution_count": 2,
   "id": "3a023a1f",
   "metadata": {},
   "outputs": [
    {
     "name": "stdout",
     "output_type": "stream",
     "text": [
      "Hello, Amy Jhon Whatson\n"
     ]
    }
   ],
   "source": [
    "def name(fname, mname = \"Jhon\", lname = \"Whatson\"):\n",
    "    print(\"Hello,\", fname, mname, lname)\n",
    "name(\"Amy\")"
   ]
  },
  {
   "cell_type": "markdown",
   "id": "62de09f6",
   "metadata": {},
   "source": [
    "# list"
   ]
  },
  {
   "cell_type": "code",
   "execution_count": 21,
   "id": "3da4400f",
   "metadata": {},
   "outputs": [
    {
     "name": "stdout",
     "output_type": "stream",
     "text": [
      "[22, 32, 89, 89, 99]\n",
      "[22, 32, 89, 89, 99]\n",
      "[22, 32, 89, 89]\n",
      "[32, 89, 89]\n",
      "[89, 89]\n",
      "[89]\n",
      "99\n"
     ]
    }
   ],
   "source": [
    "l1=[22,32,89,89,99]\n",
    "print(l1)\n",
    "print(l1[:])\n",
    "print(l1[0:4])\n",
    "print(l1[1:4])\n",
    "print(l1[2:4])\n",
    "print(l1[3:4])\n",
    "print(l1[4])"
   ]
  },
  {
   "cell_type": "code",
   "execution_count": 35,
   "id": "ccc68204",
   "metadata": {},
   "outputs": [
    {
     "name": "stdout",
     "output_type": "stream",
     "text": [
      "no\n"
     ]
    }
   ],
   "source": [
    "if 99 and 33 in l1:\n",
    "    print(\"yes\")\n",
    "else:\n",
    "    print(\"no\")"
   ]
  },
  {
   "cell_type": "code",
   "execution_count": 36,
   "id": "dc003ffb",
   "metadata": {},
   "outputs": [
    {
     "name": "stdout",
     "output_type": "stream",
     "text": [
      "yes\n"
     ]
    }
   ],
   "source": [
    "if 99 or 33 in l1:\n",
    "    print(\"yes\")\n",
    "else:\n",
    "    print(\"no\")"
   ]
  },
  {
   "cell_type": "code",
   "execution_count": 38,
   "id": "9756d577",
   "metadata": {},
   "outputs": [],
   "source": [
    "l1.append(10)"
   ]
  },
  {
   "cell_type": "code",
   "execution_count": 39,
   "id": "f3591e37",
   "metadata": {},
   "outputs": [
    {
     "name": "stdout",
     "output_type": "stream",
     "text": [
      "[22, 32, 89, 89, 99, 10]\n"
     ]
    }
   ],
   "source": [
    "print(l1)"
   ]
  },
  {
   "cell_type": "code",
   "execution_count": 40,
   "id": "50ba872f",
   "metadata": {},
   "outputs": [],
   "source": [
    "l1.sort(reverse=True)"
   ]
  },
  {
   "cell_type": "code",
   "execution_count": 41,
   "id": "9b683a47",
   "metadata": {},
   "outputs": [
    {
     "data": {
      "text/plain": [
       "[99, 89, 89, 32, 22, 10]"
      ]
     },
     "execution_count": 41,
     "metadata": {},
     "output_type": "execute_result"
    }
   ],
   "source": [
    "l1"
   ]
  },
  {
   "cell_type": "code",
   "execution_count": 42,
   "id": "386bbb75",
   "metadata": {},
   "outputs": [],
   "source": [
    "l1.sort(reverse=False)"
   ]
  },
  {
   "cell_type": "code",
   "execution_count": 43,
   "id": "2114b6ce",
   "metadata": {},
   "outputs": [
    {
     "data": {
      "text/plain": [
       "[10, 22, 32, 89, 89, 99]"
      ]
     },
     "execution_count": 43,
     "metadata": {},
     "output_type": "execute_result"
    }
   ],
   "source": [
    "l1"
   ]
  },
  {
   "cell_type": "markdown",
   "id": "9861ae12",
   "metadata": {},
   "source": [
    "# Concatenating two lists:\n",
    "You can simply concatenate two lists to join two list"
   ]
  },
  {
   "cell_type": "code",
   "execution_count": 50,
   "id": "7b25126d",
   "metadata": {},
   "outputs": [
    {
     "name": "stdout",
     "output_type": "stream",
     "text": [
      "['voilet', 'indigo', 'blue', 'green', 'yellow', 'orange', 'red']\n"
     ]
    }
   ],
   "source": [
    "colors = [\"voilet\", \"indigo\", \"blue\", \"green\"]\n",
    "colors2 = [\"yellow\", \"orange\", \"red\"]\n",
    "print(colors + colors2)"
   ]
  },
  {
   "cell_type": "markdown",
   "id": "8cac0f2a",
   "metadata": {},
   "source": [
    "# extend():\n",
    "This method adds an entire list or any other collection datatype (set, tuple, dictionary) to the existing list."
   ]
  },
  {
   "cell_type": "code",
   "execution_count": 51,
   "id": "e2375a50",
   "metadata": {},
   "outputs": [
    {
     "name": "stdout",
     "output_type": "stream",
     "text": [
      "['voilet', 'indigo', 'blue', 'green', 'yellow', 'orange', 'red']\n"
     ]
    }
   ],
   "source": [
    "\n",
    "colors = [\"voilet\", \"indigo\", \"blue\"]\n",
    "rainbow = [\"green\", \"yellow\", \"orange\", \"red\"]\n",
    "colors.extend(rainbow)\n",
    "print(colors)"
   ]
  },
  {
   "cell_type": "markdown",
   "id": "ed8a71ae",
   "metadata": {},
   "source": [
    "# insert():\n",
    "This method inserts an item at the given index. User has to specify index and the item to be inserted within the insert() method.\n",
    "\n",
    "\n",
    "\n"
   ]
  },
  {
   "cell_type": "code",
   "execution_count": 52,
   "id": "c88bb46f",
   "metadata": {},
   "outputs": [
    {
     "name": "stdout",
     "output_type": "stream",
     "text": [
      "['voilet', 'green', 'indigo', 'blue']\n"
     ]
    }
   ],
   "source": [
    "colors = [\"voilet\", \"indigo\", \"blue\"]\n",
    "colors.insert(1, \"green\") \n",
    "print(colors)"
   ]
  },
  {
   "cell_type": "markdown",
   "id": "77fa12a4",
   "metadata": {},
   "source": [
    "# append():\n",
    "This method appends items to the end of the existing list.\n",
    "\n"
   ]
  },
  {
   "cell_type": "code",
   "execution_count": 54,
   "id": "668221cb",
   "metadata": {},
   "outputs": [
    {
     "name": "stdout",
     "output_type": "stream",
     "text": [
      "['voilet', 'indigo', 'blue', 'green']\n"
     ]
    }
   ],
   "source": [
    "colors = [\"voilet\", \"indigo\", \"blue\"]\n",
    "colors.append(\"green\")\n",
    "print(colors)"
   ]
  },
  {
   "cell_type": "markdown",
   "id": "6622f373",
   "metadata": {},
   "source": [
    "# Python Tuples\n",
    "Tuples are ordered collection of data items. They store multiple items in a single variable. Tuple items are separated by commas and enclosed within round brackets (). Tuples are unchangeable meaning we can not alter them after creation."
   ]
  },
  {
   "cell_type": "code",
   "execution_count": 57,
   "id": "56ff3282",
   "metadata": {},
   "outputs": [
    {
     "name": "stdout",
     "output_type": "stream",
     "text": [
      "(22, 32, 89, 89, 99)\n",
      "(22, 32, 89, 89, 99)\n",
      "(22, 32, 89, 89)\n",
      "(32, 89, 89)\n",
      "(89, 89)\n",
      "(89,)\n",
      "99\n"
     ]
    }
   ],
   "source": [
    "l=(22,32,89,89,99)\n",
    "print(l)\n",
    "print(l[:])\n",
    "print(l[0:4])\n",
    "print(l[1:4])\n",
    "print(l[2:4])\n",
    "print(l[3:4])\n",
    "print(l[4])"
   ]
  },
  {
   "cell_type": "code",
   "execution_count": 58,
   "id": "adc5b492",
   "metadata": {},
   "outputs": [
    {
     "name": "stdout",
     "output_type": "stream",
     "text": [
      "yes\n"
     ]
    }
   ],
   "source": [
    "if 99 or 33 in l:\n",
    "    print(\"yes\")\n",
    "else:\n",
    "    print(\"no\")"
   ]
  },
  {
   "cell_type": "code",
   "execution_count": 60,
   "id": "be2b7e20",
   "metadata": {},
   "outputs": [
    {
     "name": "stdout",
     "output_type": "stream",
     "text": [
      "no\n"
     ]
    }
   ],
   "source": [
    "if 99 and 33 in l:\n",
    "    print(\"yes\")\n",
    "else:\n",
    "    print(\"no\")"
   ]
  },
  {
   "cell_type": "code",
   "execution_count": 61,
   "id": "85702bec",
   "metadata": {},
   "outputs": [
    {
     "name": "stdout",
     "output_type": "stream",
     "text": [
      "Germany is present.\n"
     ]
    }
   ],
   "source": [
    "country = (\"Spain\", \"Italy\", \"India\", \"England\", \"Germany\")\n",
    "if \"Germany\" in country:\n",
    "    print(\"Germany is present.\")\n",
    "else:\n",
    "    print(\"Germany is absent.\")"
   ]
  },
  {
   "cell_type": "code",
   "execution_count": 63,
   "id": "ba4de5f8",
   "metadata": {},
   "outputs": [
    {
     "name": "stdout",
     "output_type": "stream",
     "text": [
      "('cat', 'bat', 'pig', 'donkey', 'cow')\n"
     ]
    }
   ],
   "source": [
    "animals = (\"cat\", \"dog\", \"bat\", \"mouse\", \"pig\", \"horse\", \"donkey\", \"goat\", \"cow\")\n",
    "print(animals[::2])\n"
   ]
  },
  {
   "cell_type": "markdown",
   "id": "030e7b9f",
   "metadata": {},
   "source": [
    "# Manipulating Tuples\n",
    "Tuples are immutable, hence if you want to add, remove or change tuple items, then first you must convert the tuple to a list. Then perform operation on that list and convert it back to tup"
   ]
  },
  {
   "cell_type": "code",
   "execution_count": 65,
   "id": "a6f4b7f1",
   "metadata": {},
   "outputs": [
    {
     "name": "stdout",
     "output_type": "stream",
     "text": [
      "('Spain', 'Italy', 'Finland', 'Germany', 'Russia')\n"
     ]
    }
   ],
   "source": [
    "countries = (\"Spain\", \"Italy\", \"India\", \"England\", \"Germany\")\n",
    "temp = list(countries)\n",
    "temp.append(\"Russia\") \n",
    "temp.pop(3)           \n",
    "temp[2] = \"Finland\"       \n",
    "countries = tuple(temp)\n",
    "print(countries)"
   ]
  },
  {
   "cell_type": "code",
   "execution_count": 67,
   "id": "2684d219",
   "metadata": {},
   "outputs": [
    {
     "name": "stdout",
     "output_type": "stream",
     "text": [
      "Count of 3 in tuple1 is: 10\n"
     ]
    }
   ],
   "source": [
    "tuple1 = (0, 1, 2, 3, 2, 31, 1, 3, 2, 3)\n",
    "res = tuple1.count(3)\n",
    "res = tuple1.index(3)\n",
    "res = tuple1.index(31)\n",
    "res = tuple1.index(3, 4, 8)\n",
    "res = len(tuple1)\n",
    "print('Count of 3 in tuple1 is:', res)"
   ]
  },
  {
   "cell_type": "markdown",
   "id": "b4931be8",
   "metadata": {},
   "source": [
    "# RECURSION IN PYTHON "
   ]
  },
  {
   "cell_type": "markdown",
   "id": "dfd2de40",
   "metadata": {},
   "source": [
    "Recursion is the process of defining something in terms of itself.\n",
    "\n",
    "Python Recursive Function\n",
    "In Python, we know that a function can call other functions. It is even possible for the function to call itself. These types of construct are termed as recursive functions."
   ]
  },
  {
   "cell_type": "code",
   "execution_count": 69,
   "id": "b4ddc3e8",
   "metadata": {},
   "outputs": [],
   "source": [
    "def factorial(num): \n",
    "    if (num == 1 or num == 0):\n",
    "        return 1\n",
    "    else:\n",
    "        return (num * factorial(num - 1)) \n"
   ]
  },
  {
   "cell_type": "code",
   "execution_count": 70,
   "id": "0e45e0a3",
   "metadata": {},
   "outputs": [
    {
     "name": "stdout",
     "output_type": "stream",
     "text": [
      "Number:  7\n",
      "Factorial:  5040\n"
     ]
    }
   ],
   "source": [
    "num = 7; \n",
    "print(\"Number: \",num)\n",
    "print(\"Factorial: \",factorial(num))"
   ]
  },
  {
   "cell_type": "code",
   "execution_count": null,
   "id": "9454a6d9",
   "metadata": {},
   "outputs": [],
   "source": []
  }
 ],
 "metadata": {
  "kernelspec": {
   "display_name": "Python 3 (ipykernel)",
   "language": "python",
   "name": "python3"
  },
  "language_info": {
   "codemirror_mode": {
    "name": "ipython",
    "version": 3
   },
   "file_extension": ".py",
   "mimetype": "text/x-python",
   "name": "python",
   "nbconvert_exporter": "python",
   "pygments_lexer": "ipython3",
   "version": "3.10.9"
  }
 },
 "nbformat": 4,
 "nbformat_minor": 5
}
