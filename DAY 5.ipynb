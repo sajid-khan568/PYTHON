{
 "cells": [
  {
   "cell_type": "markdown",
   "id": "1b53094c",
   "metadata": {},
   "source": [
    "# SHORT HAND IF ELSE "
   ]
  },
  {
   "cell_type": "code",
   "execution_count": 3,
   "id": "4466cf09",
   "metadata": {},
   "outputs": [
    {
     "data": {
      "text/plain": [
       "'B'"
      ]
     },
     "execution_count": 3,
     "metadata": {},
     "output_type": "execute_result"
    }
   ],
   "source": [
    "a=10\n",
    "b=87\n",
    "print(\"A\") if a>10 else(\"B\")"
   ]
  },
  {
   "cell_type": "code",
   "execution_count": 9,
   "id": "85e6ffdb",
   "metadata": {},
   "outputs": [
    {
     "data": {
      "text/plain": [
       "'incorrect'"
      ]
     },
     "execution_count": 9,
     "metadata": {},
     "output_type": "execute_result"
    }
   ],
   "source": [
    "print(10)if 10<0 else(\"incorrect\")"
   ]
  },
  {
   "cell_type": "markdown",
   "id": "16345849",
   "metadata": {},
   "source": [
    "# Enumerate Function in Python"
   ]
  },
  {
   "cell_type": "code",
   "execution_count": 29,
   "id": "96856554",
   "metadata": {},
   "outputs": [
    {
     "name": "stdout",
     "output_type": "stream",
     "text": [
      "10\n",
      "good\n",
      "20\n",
      "30\n",
      "40\n",
      "50\n",
      "60\n",
      "70\n",
      "80\n",
      "90\n",
      "100\n"
     ]
    }
   ],
   "source": [
    "marks=[10,20,30,40,50,60,70,80,90,100]\n",
    "for index,marks in enumerate(marks,start=1):\n",
    "    print(marks)\n",
    "    if (index==1):\n",
    "        print(\"good\")"
   ]
  },
  {
   "cell_type": "markdown",
   "id": "a7121bcf",
   "metadata": {},
   "source": [
    "# import"
   ]
  },
  {
   "cell_type": "code",
   "execution_count": 30,
   "id": "25483acf",
   "metadata": {},
   "outputs": [],
   "source": [
    "import pandas as pd"
   ]
  },
  {
   "cell_type": "code",
   "execution_count": 33,
   "id": "d496d962",
   "metadata": {},
   "outputs": [],
   "source": [
    "import pandas as s #using a create small lib name "
   ]
  },
  {
   "cell_type": "code",
   "execution_count": 37,
   "id": "3ec8a43d",
   "metadata": {},
   "outputs": [
    {
     "name": "stdout",
     "output_type": "stream",
     "text": [
      "<class 'module'>\n"
     ]
    }
   ],
   "source": [
    "print(type(s))"
   ]
  },
  {
   "cell_type": "code",
   "execution_count": 38,
   "id": "e9ec1fba",
   "metadata": {},
   "outputs": [],
   "source": [
    "import math as khan \n"
   ]
  },
  {
   "cell_type": "code",
   "execution_count": 39,
   "id": "3538fb5f",
   "metadata": {},
   "outputs": [
    {
     "name": "stdout",
     "output_type": "stream",
     "text": [
      "<class 'module'>\n"
     ]
    }
   ],
   "source": [
    "print(type(khan))"
   ]
  },
  {
   "cell_type": "code",
   "execution_count": 40,
   "id": "2c4f2b79",
   "metadata": {},
   "outputs": [
    {
     "data": {
      "text/plain": [
       "['__doc__',\n",
       " '__loader__',\n",
       " '__name__',\n",
       " '__package__',\n",
       " '__spec__',\n",
       " 'acos',\n",
       " 'acosh',\n",
       " 'asin',\n",
       " 'asinh',\n",
       " 'atan',\n",
       " 'atan2',\n",
       " 'atanh',\n",
       " 'ceil',\n",
       " 'comb',\n",
       " 'copysign',\n",
       " 'cos',\n",
       " 'cosh',\n",
       " 'degrees',\n",
       " 'dist',\n",
       " 'e',\n",
       " 'erf',\n",
       " 'erfc',\n",
       " 'exp',\n",
       " 'expm1',\n",
       " 'fabs',\n",
       " 'factorial',\n",
       " 'floor',\n",
       " 'fmod',\n",
       " 'frexp',\n",
       " 'fsum',\n",
       " 'gamma',\n",
       " 'gcd',\n",
       " 'hypot',\n",
       " 'inf',\n",
       " 'isclose',\n",
       " 'isfinite',\n",
       " 'isinf',\n",
       " 'isnan',\n",
       " 'isqrt',\n",
       " 'lcm',\n",
       " 'ldexp',\n",
       " 'lgamma',\n",
       " 'log',\n",
       " 'log10',\n",
       " 'log1p',\n",
       " 'log2',\n",
       " 'modf',\n",
       " 'nan',\n",
       " 'nextafter',\n",
       " 'perm',\n",
       " 'pi',\n",
       " 'pow',\n",
       " 'prod',\n",
       " 'radians',\n",
       " 'remainder',\n",
       " 'sin',\n",
       " 'sinh',\n",
       " 'sqrt',\n",
       " 'tan',\n",
       " 'tanh',\n",
       " 'tau',\n",
       " 'trunc',\n",
       " 'ulp']"
      ]
     },
     "execution_count": 40,
     "metadata": {},
     "output_type": "execute_result"
    }
   ],
   "source": [
    "dir(khan)"
   ]
  },
  {
   "cell_type": "code",
   "execution_count": 48,
   "id": "41d364fe",
   "metadata": {},
   "outputs": [],
   "source": [
    "from math  import ulp # its only import from math  to ulp"
   ]
  },
  {
   "cell_type": "markdown",
   "id": "e3599fab",
   "metadata": {},
   "source": [
    "# os module"
   ]
  },
  {
   "cell_type": "code",
   "execution_count": 49,
   "id": "371f5372",
   "metadata": {},
   "outputs": [],
   "source": [
    "import os \n"
   ]
  },
  {
   "cell_type": "code",
   "execution_count": null,
   "id": "aa189777",
   "metadata": {},
   "outputs": [],
   "source": [
    "import os\n",
    "if (not os.path.exists(\"skm\")):\n",
    "    os.mkdir(\"skm\")\n",
    "for i in range(1,100):\n",
    "     os.mkdir(f\"skm/who{i+1}\")"
   ]
  },
  {
   "cell_type": "raw",
   "id": "84322538",
   "metadata": {},
   "source": [
    "its an amazinf function which help us to create a nomber of file in os"
   ]
  },
  {
   "cell_type": "code",
   "execution_count": null,
   "id": "102f524d",
   "metadata": {},
   "outputs": [],
   "source": []
  },
  {
   "cell_type": "code",
   "execution_count": null,
   "id": "b94dab91",
   "metadata": {},
   "outputs": [],
   "source": []
  },
  {
   "cell_type": "markdown",
   "id": "c5bea161",
   "metadata": {},
   "source": [
    "# CODEING AND DECODEING"
   ]
  },
  {
   "cell_type": "code",
   "execution_count": null,
   "id": "4cfc1b5a",
   "metadata": {},
   "outputs": [],
   "source": [
    "st=input(\"Enter your meassage\")\n",
    "words=st.split(\"\")\n",
    "co"
   ]
  }
 ],
 "metadata": {
  "kernelspec": {
   "display_name": "Python 3 (ipykernel)",
   "language": "python",
   "name": "python3"
  },
  "language_info": {
   "codemirror_mode": {
    "name": "ipython",
    "version": 3
   },
   "file_extension": ".py",
   "mimetype": "text/x-python",
   "name": "python",
   "nbconvert_exporter": "python",
   "pygments_lexer": "ipython3",
   "version": "3.10.9"
  }
 },
 "nbformat": 4,
 "nbformat_minor": 5
}
