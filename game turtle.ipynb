{
 "cells": [
  {
   "cell_type": "code",
   "execution_count": 3,
   "id": "5d60c2d0",
   "metadata": {},
   "outputs": [],
   "source": [
    "from turtle import Turtle, Screen\n",
    "import random\n",
    "is_race_on = False\n",
    "screen = Screen()\n",
    "screen.setup(width=500,height=400)\n",
    "user_bet = screen.textinput(title=\"Make your bet \", prompt=\"Which Turtle win the race ? Enter a colour:\")\n",
    "color = [\"red\",\"orange\",\"yellow\",\"green\",\"blue\",\"purple\"]\n",
    "y_position = [-70,-40,-10,20,50,80]\n",
    "all_turtles =[]\n",
    "for t in range(0,6):\n",
    "    tinny = Turtle(shape=\"turtle\")\n",
    "    tinny.color(color[t])\n",
    "    tinny.penup()\n",
    "    tinny.goto(x=-230,y=y_position[t])\n",
    "    all_turtles.append(tinny)\n",
    "if user_bet:\n",
    "    is_race_on = True\n",
    "while is_race_on:\n",
    "    for turtle in all_turtles:\n",
    "        if turtle.xcor() > 230:\n",
    "            is_race_on = False\n",
    "            winning_color = turtle.pencolor()\n",
    "            if winning_color == user_bet:\n",
    "                print(f\"You've won ! The {winning_color} turtle is the winner!\")\n",
    "            else:\n",
    "                print(f\"You've Lost! The {winning_color} turtle is the race!\")\n",
    "        rand_distance = random.randint(0,10)\n",
    "        turtle.forward(rand_distance)\n",
    "\n",
    "screen.exitonclick()"
   ]
  },
  {
   "cell_type": "code",
   "execution_count": 6,
   "id": "63963303",
   "metadata": {},
   "outputs": [
    {
     "name": "stdout",
     "output_type": "stream",
     "text": [
      "\n",
      "Question For Rs. 1000\n",
      "1:The International Literacy Day is observed on\n",
      "a. Sep 8          b.Nov 28\n",
      "c. May 2          d.Sep 22\n",
      "Enter your answer (1-4) or 0 to quit:\n",
      "1\n",
      "Correct answer , You have won Rs.1000\n",
      "Your take home money is Rs.0\n",
      "\n",
      "Question For Rs. 2000\n",
      "2:The language of Lakshadweep a Union Territory of India is\n",
      "a. Tamil          b.Hindi\n",
      "c. Malyalam          d.Telugu\n",
      "Enter your answer (1-4) or 0 to quit:\n",
      "1\n",
      "Wrong answer ! You out of this game.\n"
     ]
    }
   ],
   "source": [
    "questions = [\n",
    "[as\",\"Teachers' Day\",\"National Integration Day\",\"World Tourism Day\",\"International Literacy Day\",3],\n",
    "[\"5:Who is the author of the epic 'Meghdoot\",\"Vishakadatt\"1:The International Literacy Day is observed on\",\"Sep 8\",\"Nov 28\",\"May 2\",\"Sep 22\",1],\n",
    "[\"2:The language of Lakshadweep a Union Territory of India is\",\"Tamil\",\"Hindi\",\"Malyalam\",\"Telugu\",3],\n",
    "[\"3:Bahubali festival is related to\",\"Islam\",\"Hinduism\",\"Buddism\",\"Jainism\",4],\n",
    "[\"4:September 27 is celebrated every year a\",\"Valmiki\",\"Banabhatta\",\"Kalidas\",4],\n",
    "[\"6:Pongal is a popular festival of which state\",\"Karnataka\",\"Kerala\",\"Tamil Nadu\",\"Andhra Pradesh\",3],\n",
    "[\"7:The first month of the Indian national calendar\",\"Magha\",\"Chaitra\",\"Ashadha\",\"Vaishakha\",2],\n",
    "[\"8:Which of the following is not a dance from Kerala?\",\"Karnataka\",\"Kerala\",\"Tamil Nadu\",\"Andhra Pradesh\",3],\n",
    "[\"9:Which of the following was the first Indian state to issue photo identity cards to its voters?\",\"Tamil Nadu\",\"Rajasthan\",\"West Bengal\",\"Haryana\",4],\n",
    "[\"10:What is the largest object in our solar system?\",\"Titan\",\"Jupiter\",\"Sun\",\"Alpha Centauri\",2],\n",
    "[\"11:Which of these are names of national parks located in Madhya Pradesh?\",\"Krishna and Kanhaiya\",\"Krishna and Kanhaiya\",\"Ghanshyam and Murari\",\"Girdhar and Gopal\",2],\n",
    "[\"12:Who wrote the introduction to the English translation of Rabindranath Tagore’s Gitanjali?\",\"P.B. Shelley\",\" Alfred Tennyson\",\"W.B. Yeats\",\"T.S. Elliot\",3],\n",
    "[\"13:Who is the only MP in the current Lok Sabha who is also an Olympic medalist?\",\"Abhinav Bindra\",\"Rajyavardan Singh Rathore\",\"Karnam Maleshwari\",\" Gagan Narang\",2],\n",
    "[\"14:Which newspaper once kept its editorial cloumn blank as a mark of protest against the emergency of 1975?\",\" Hindustan Times\",\"The Hindu\",\" The Indian Express\",\"The Times of India\",3],\n",
    "[\"15:How many religions are there in India?\",\"6\",\"7\",\"8\",\"4\",1],\n",
    "[\"16:Which is known as direct tax…..\",\" Custom tax\",\"Income tax\",\"Property tax\",\" Excise tax\",2],\n",
    "[\"17:A coin of what value is called as “Athhanni”?\",\"1 Rupee\",\"25 Paise\",\"50 Paise\",\"2 Rupees\",3],\n",
    "[\"18:Who was the first person to be awarded the Bharat Ratna posthumously?\",\"Rajiv Gandhi\",\"Vinoba Bhave\",\"Lal Bahadur Shastri\",\" Indira gandhi\",3]\n",
    "]\n",
    "levels = [1000, 2000, 3000, 5000, 10000, 20000, 40000, 80000, 160000, 320000, 640000, 1250000, 2500000, 5000000, 10000000, 30000000, 50000000, 70000000]\n",
    "money = 0\n",
    "for i in range(0,len(questions)):\n",
    "    question = questions[i]\n",
    "    print(f\"\\nQuestion For Rs. {levels[i]}\")\n",
    "    print(f\"{question[0]}\")\n",
    "    print(f\"a. {question[1]}          b.{question[2]}\")\n",
    "    print(f\"c. {question[3]}          d.{question[4]}\")\n",
    "    reply = int(input(\"Enter your answer (1-4) or 0 to quit:\\n\"))\n",
    "    if(reply == 0):\n",
    "        money = levels[i-1]\n",
    "        break\n",
    "    if(reply == question[-1]):\n",
    "        print(f\"Correct answer , You have won Rs.{levels[i]}\")\n",
    "        if(i == 4):\n",
    "            money = 10000\n",
    "        if(i == 9):\n",
    "            money = 320000\n",
    "        if(i == 14):\n",
    "            money = 10000000\n",
    "        if(i == 16):\n",
    "            money = 70000000\n",
    "    else:\n",
    "        print(\"Wrong answer ! You out of this game.\")\n",
    "        break\n",
    "    print(f\"Your take home money is Rs.{money}\")"
   ]
  },
  {
   "cell_type": "code",
   "execution_count": null,
   "id": "a47699fd",
   "metadata": {},
   "outputs": [],
   "source": [
    "1\n"
   ]
  },
  {
   "cell_type": "code",
   "execution_count": null,
   "id": "25fc0f61",
   "metadata": {},
   "outputs": [],
   "source": []
  }
 ],
 "metadata": {
  "kernelspec": {
   "display_name": "Python 3 (ipykernel)",
   "language": "python",
   "name": "python3"
  },
  "language_info": {
   "codemirror_mode": {
    "name": "ipython",
    "version": 3
   },
   "file_extension": ".py",
   "mimetype": "text/x-python",
   "name": "python",
   "nbconvert_exporter": "python",
   "pygments_lexer": "ipython3",
   "version": "3.10.9"
  }
 },
 "nbformat": 4,
 "nbformat_minor": 5
}
